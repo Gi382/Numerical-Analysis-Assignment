{
 "cells": [
  {
   "cell_type": "code",
   "execution_count": 54,
   "metadata": {},
   "outputs": [],
   "source": [
    "def bisection(a, b, f, tolerance=1e-6, max_iterations=100):\n",
    "    for i in range(max_iterations):\n",
    "        c = (a + b) / 2\n",
    "        if abs(f(c)) < tolerance:\n",
    "            print(f\"Found after {i} iterations\")\n",
    "            print(f\"Root found at x = {c:.6f}\")\n",
    "            return\n",
    "        elif f(c) * f(a) < 0:\n",
    "            b = c\n",
    "        else:\n",
    "            a = c\n",
    "    print(\"Root not found. Try different intervals or change the number of maximum iterations.\")\n",
    "\n",
    "    \n",
    "def newton_raphson(x0, f, df, tolerance=1e-6, max_iterations=100):\n",
    "    for i in range(max_iterations):\n",
    "        fx = f(x0)\n",
    "        dfx = df(x0)\n",
    "\n",
    "        x1 = x0 - (fx / dfx)\n",
    "\n",
    "        if abs(f(x1) < tolerance):\n",
    "            print(f\"Found after {i + 1} iterations\")\n",
    "            print(f\"Value found at x = {x1:.6f}\")\n",
    "            return\n",
    "        else:\n",
    "            x0 = x1\n",
    "    \n",
    "    print(\"Root not found. Try different intervals or change the number of maximum iterations.\")\n",
    "\n"
   ]
  },
  {
   "cell_type": "code",
   "execution_count": 3,
   "metadata": {},
   "outputs": [],
   "source": [
    "def f(x: float):\n",
    "    return x ** 4 + 2 * (x ** 3) + x ** 2 + 2 * x - 40\n",
    "\n",
    "def df(x: float):\n",
    "    return 4 * (x ** 3) + 6 * (x ** 2) + 2 * x + 2"
   ]
  },
  {
   "cell_type": "code",
   "execution_count": 43,
   "metadata": {},
   "outputs": [],
   "source": [
    "import matplotlib.pyplot as plt\n",
    "import numpy as np"
   ]
  },
  {
   "cell_type": "code",
   "execution_count": 37,
   "metadata": {},
   "outputs": [
    {
     "data": {
      "text/plain": [
       "([<matplotlib.axis.XTick at 0x24f74628c50>,\n",
       "  <matplotlib.axis.XTick at 0x24f74834e90>,\n",
       "  <matplotlib.axis.XTick at 0x24f7479ead0>,\n",
       "  <matplotlib.axis.XTick at 0x24f74801a90>,\n",
       "  <matplotlib.axis.XTick at 0x24f7487e590>,\n",
       "  <matplotlib.axis.XTick at 0x24f74880850>,\n",
       "  <matplotlib.axis.XTick at 0x24f74882a50>,\n",
       "  <matplotlib.axis.XTick at 0x24f74888d10>,\n",
       "  <matplotlib.axis.XTick at 0x24f74773250>,\n",
       "  <matplotlib.axis.XTick at 0x24f7488b750>,\n",
       "  <matplotlib.axis.XTick at 0x24f74899890>],\n",
       " [Text(-5.0, 0, '-5.0'),\n",
       "  Text(-4.0, 0, '-4.0'),\n",
       "  Text(-3.0, 0, '-3.0'),\n",
       "  Text(-2.0, 0, '-2.0'),\n",
       "  Text(-1.0, 0, '-1.0'),\n",
       "  Text(0.0, 0, '0.0'),\n",
       "  Text(1.0, 0, '1.0'),\n",
       "  Text(2.0, 0, '2.0'),\n",
       "  Text(3.0, 0, '3.0'),\n",
       "  Text(4.0, 0, '4.0'),\n",
       "  Text(5.0, 0, '5.0')])"
      ]
     },
     "execution_count": 37,
     "metadata": {},
     "output_type": "execute_result"
    },
    {
     "data": {
      "image/png": "[encoded data removed]",
      "text/plain": [
       "<Figure size 640x480 with 1 Axes>"
      ]
     },
     "metadata": {},
     "output_type": "display_data"
    }
   ],
   "source": [
    "\n",
    "x = np.linspace(-5, 5, 11)\n",
    "vectorized_f = np.vectorize(f)\n",
    "y = f(x)\n",
    "\n",
    "plt.plot(x, y, r\".-\")\n",
    "plt.grid(True)\n",
    "plt.xticks(x, np.round(x, 1))"
   ]
  },
  {
   "cell_type": "code",
   "execution_count": 44,
   "metadata": {},
   "outputs": [
    {
     "name": "stdout",
     "output_type": "stream",
     "text": [
      "Found after 25 iterations\n",
      "Root found at x = 2.000000\n"
     ]
    }
   ],
   "source": [
    "bisection(1, 4, f)"
   ]
  },
  {
   "cell_type": "code",
   "execution_count": 41,
   "metadata": {},
   "outputs": [
    {
     "name": "stdout",
     "output_type": "stream",
     "text": [
      "Value found at x = 2.000000\n"
     ]
    }
   ],
   "source": [
    "newton_raphson(1, f, df)"
   ]
  },
  {
   "cell_type": "code",
   "execution_count": 49,
   "metadata": {},
   "outputs": [],
   "source": [
    "from timeit import Timer"
   ]
  },
  {
   "cell_type": "code",
   "execution_count": 64,
   "metadata": {},
   "outputs": [
    {
     "name": "stdout",
     "output_type": "stream",
     "text": [
      "Found after 6 iterations\n",
      "Value found at x = 2.000000\n",
      "Newton-Raphson:  0.0005655999993905425 ms\n",
      "\n",
      "Found after 25 iterations\n",
      "Root found at x = 2.000000\n",
      "Bisection:  0.000159099989105016 ms\n",
      "\n",
      "Bisection method performed faster\n"
     ]
    }
   ],
   "source": [
    "number_of_executions = 1\n",
    "newton_raphson_timer = Timer(\"newton_raphson(1, f, df)\", \"from __main__ import newton_raphson, f, df\")\n",
    "newton_raphson_time = newton_raphson_timer.timeit(number_of_executions)\n",
    "print(\"Newton-Raphson: \", newton_raphson_time , \"ms\")\n",
    "\n",
    "print()\n",
    "\n",
    "bisection_timer = Timer(\"bisection(1, 4, f)\", \"from __main__ import bisection, f\")\n",
    "bisection_time = bisection_timer.timeit(number= number_of_executions)\n",
    "print(\"Bisection: \", bisection_time, \"ms\")\n",
    "\n",
    "print()\n",
    "\n",
    "if bisection_time < newton_raphson_time:\n",
    "    print(\"Bisection method performed faster\")\n",
    "else:\n",
    "    print(\"Newton-Raphson method performed faster\")\n"
   ]
  }
 ],
 "metadata": {
  "kernelspec": {
   "display_name": "Python 3",
   "language": "python",
   "name": "python3"
  },
  "language_info": {
   "codemirror_mode": {
    "name": "ipython",
    "version": 3
   },
   "file_extension": ".py",
   "mimetype": "text/x-python",
   "name": "python",
   "nbconvert_exporter": "python",
   "pygments_lexer": "ipython3",
   "version": "3.11.1"
  },
  "orig_nbformat": 4
 },
 "nbformat": 4,
 "nbformat_minor": 2
}
